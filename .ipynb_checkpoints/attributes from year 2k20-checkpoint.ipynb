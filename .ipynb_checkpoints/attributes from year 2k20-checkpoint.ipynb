{
 "cells": [
  {
   "cell_type": "markdown",
   "metadata": {},
   "source": [
    "## For movies released in the year 2020\n",
    "#### Using beautiful soup to fetch data from article of wikipedia"
   ]
  },
  {
   "cell_type": "code",
   "execution_count": 1,
   "metadata": {},
   "outputs": [],
   "source": [
    "import pandas as pd\n",
    "import numpy as np\n",
    "import requests\n",
    "import bs4 as bs\n",
    "import urllib.request"
   ]
  },
  {
   "cell_type": "code",
   "execution_count": 2,
   "metadata": {},
   "outputs": [],
   "source": [
    "link = \"https://en.wikipedia.org/wiki/List_of_American_films_of_2020\""
   ]
  },
  {
   "cell_type": "code",
   "execution_count": 3,
   "metadata": {},
   "outputs": [],
   "source": [
    "source = urllib.request.urlopen(link).read()\n",
    "soup = bs.BeautifulSoup(source,'lxml')"
   ]
  },
  {
   "cell_type": "code",
   "execution_count": 4,
   "metadata": {},
   "outputs": [],
   "source": [
    "tables = soup.find_all('table',class_='wikitable sortable')"
   ]
  },
  {
   "cell_type": "code",
   "execution_count": 5,
   "metadata": {},
   "outputs": [
    {
     "name": "stdout",
     "output_type": "stream",
     "text": [
      " total tables: 4 and their types: <class 'bs4.element.Tag'>\n"
     ]
    }
   ],
   "source": [
    "print(f\" total tables: {len(tables)} and their types: {type(tables[0])}\")"
   ]
  },
  {
   "cell_type": "code",
   "execution_count": 6,
   "metadata": {},
   "outputs": [],
   "source": [
    "df1 = pd.read_html(str(tables[0]))[0]\n",
    "df2 = pd.read_html(str(tables[1]))[0]\n",
    "df3 = pd.read_html(str(tables[2]))[0]\n",
    "df4 = pd.read_html(str(tables[3]).replace(\"'1\\\"\\'\",'\"1\"'))[0] # avoided \"ValueError: invalid literal for int() with base 10: '1\"'"
   ]
  },
  {
   "cell_type": "code",
   "execution_count": 7,
   "metadata": {},
   "outputs": [],
   "source": [
    "df = df1.append(df2.append(df3.append(df4,ignore_index=True),ignore_index=True),ignore_index=True)"
   ]
  },
  {
   "cell_type": "code",
   "execution_count": 8,
   "metadata": {},
   "outputs": [
    {
     "data": {
      "text/html": [
       "<div>\n",
       "<style scoped>\n",
       "    .dataframe tbody tr th:only-of-type {\n",
       "        vertical-align: middle;\n",
       "    }\n",
       "\n",
       "    .dataframe tbody tr th {\n",
       "        vertical-align: top;\n",
       "    }\n",
       "\n",
       "    .dataframe thead th {\n",
       "        text-align: right;\n",
       "    }\n",
       "</style>\n",
       "<table border=\"1\" class=\"dataframe\">\n",
       "  <thead>\n",
       "    <tr style=\"text-align: right;\">\n",
       "      <th></th>\n",
       "      <th>Opening</th>\n",
       "      <th>Opening.1</th>\n",
       "      <th>Title</th>\n",
       "      <th>Production company</th>\n",
       "      <th>Cast and crew</th>\n",
       "      <th>Ref.</th>\n",
       "    </tr>\n",
       "  </thead>\n",
       "  <tbody>\n",
       "    <tr>\n",
       "      <th>267</th>\n",
       "      <td>DECEMBER</td>\n",
       "      <td>25</td>\n",
       "      <td>We Can Be Heroes</td>\n",
       "      <td>Netflix / Troublemaker Studios</td>\n",
       "      <td>Robert Rodriguez (director/screenplay); Priyan...</td>\n",
       "      <td>[240]</td>\n",
       "    </tr>\n",
       "    <tr>\n",
       "      <th>268</th>\n",
       "      <td>DECEMBER</td>\n",
       "      <td>25</td>\n",
       "      <td>News of the World</td>\n",
       "      <td>Universal Pictures / Perfect World Pictures</td>\n",
       "      <td>Paul Greengrass (director/screenplay); Luke Da...</td>\n",
       "      <td>[241]</td>\n",
       "    </tr>\n",
       "    <tr>\n",
       "      <th>269</th>\n",
       "      <td>DECEMBER</td>\n",
       "      <td>25</td>\n",
       "      <td>One Night in Miami...</td>\n",
       "      <td>Amazon Studios</td>\n",
       "      <td>Regina King (director); Kemp Powers (screenpla...</td>\n",
       "      <td>[242]</td>\n",
       "    </tr>\n",
       "    <tr>\n",
       "      <th>270</th>\n",
       "      <td>DECEMBER</td>\n",
       "      <td>25</td>\n",
       "      <td>Promising Young Woman</td>\n",
       "      <td>Focus Features / FilmNation Entertainment</td>\n",
       "      <td>Emerald Fennell (director/screenplay); Carey M...</td>\n",
       "      <td>[243]</td>\n",
       "    </tr>\n",
       "    <tr>\n",
       "      <th>271</th>\n",
       "      <td>DECEMBER</td>\n",
       "      <td>30</td>\n",
       "      <td>Pieces of a Woman</td>\n",
       "      <td>Netflix / Bron Studios</td>\n",
       "      <td>Kornél Mundruczó (director); Kata Wéber (scree...</td>\n",
       "      <td>[244]</td>\n",
       "    </tr>\n",
       "  </tbody>\n",
       "</table>\n",
       "</div>"
      ],
      "text/plain": [
       "      Opening  Opening.1                  Title  \\\n",
       "267  DECEMBER         25       We Can Be Heroes   \n",
       "268  DECEMBER         25      News of the World   \n",
       "269  DECEMBER         25  One Night in Miami...   \n",
       "270  DECEMBER         25  Promising Young Woman   \n",
       "271  DECEMBER         30      Pieces of a Woman   \n",
       "\n",
       "                              Production company  \\\n",
       "267               Netflix / Troublemaker Studios   \n",
       "268  Universal Pictures / Perfect World Pictures   \n",
       "269                               Amazon Studios   \n",
       "270    Focus Features / FilmNation Entertainment   \n",
       "271                       Netflix / Bron Studios   \n",
       "\n",
       "                                         Cast and crew   Ref.  \n",
       "267  Robert Rodriguez (director/screenplay); Priyan...  [240]  \n",
       "268  Paul Greengrass (director/screenplay); Luke Da...  [241]  \n",
       "269  Regina King (director); Kemp Powers (screenpla...  [242]  \n",
       "270  Emerald Fennell (director/screenplay); Carey M...  [243]  \n",
       "271  Kornél Mundruczó (director); Kata Wéber (scree...  [244]  "
      ]
     },
     "execution_count": 8,
     "metadata": {},
     "output_type": "execute_result"
    }
   ],
   "source": [
    "df.tail()"
   ]
  },
  {
   "cell_type": "code",
   "execution_count": 9,
   "metadata": {},
   "outputs": [
    {
     "data": {
      "text/plain": [
       "(272, 6)"
      ]
     },
     "execution_count": 9,
     "metadata": {},
     "output_type": "execute_result"
    }
   ],
   "source": [
    "df.shape"
   ]
  },
  {
   "cell_type": "code",
   "execution_count": 10,
   "metadata": {},
   "outputs": [
    {
     "data": {
      "text/plain": [
       "Index(['Opening', 'Opening.1', 'Title', 'Production company', 'Cast and crew',\n",
       "       'Ref.'],\n",
       "      dtype='object')"
      ]
     },
     "execution_count": 10,
     "metadata": {},
     "output_type": "execute_result"
    }
   ],
   "source": [
    "df.columns"
   ]
  },
  {
   "cell_type": "code",
   "execution_count": 11,
   "metadata": {},
   "outputs": [],
   "source": [
    "df.drop([\"Opening\",\"Opening.1\",\"Production company\",\"Ref.\"], axis=1, inplace =True)"
   ]
  },
  {
   "cell_type": "markdown",
   "metadata": {},
   "source": [
    "#### Making call to TMDB API for genres"
   ]
  },
  {
   "cell_type": "code",
   "execution_count": 12,
   "metadata": {},
   "outputs": [],
   "source": [
    "from tmdbv3api import TMDb\n",
    "import json\n",
    "import requests\n",
    "tmdb = TMDb()\n",
    "tmdb.api_key = \"fc671a9683da1e18060546d03e4e88bd\""
   ]
  },
  {
   "cell_type": "code",
   "execution_count": 16,
   "metadata": {},
   "outputs": [],
   "source": [
    "from tmdbv3api import Movie\n",
    "tmdb_movie = Movie() \n",
    "def genre(x):\n",
    "    genres = []\n",
    "    result = tmdb_movie.search(x)\n",
    "    if not result:\n",
    "      return np.NaN\n",
    "    else:\n",
    "      movie_id = result[0].id\n",
    "      response = requests.get('https://api.themoviedb.org/3/movie/{}?api_key={}'.format(movie_id,tmdb.api_key))\n",
    "      data_json = response.json()\n",
    "      if data_json['genres']:\n",
    "          genre_str = \" \" \n",
    "          for i in range(0,len(data_json['genres'])):\n",
    "              genres.append(data_json['genres'][i]['name'])\n",
    "          return genre_str.join(genres)\n",
    "      else:\n",
    "          return np.NaN"
   ]
  },
  {
   "cell_type": "code",
   "execution_count": 17,
   "metadata": {},
   "outputs": [],
   "source": [
    "df[\"genres\"] = df[\"Title\"].map(lambda x: genre(x))"
   ]
  },
  {
   "cell_type": "code",
   "execution_count": 18,
   "metadata": {},
   "outputs": [
    {
     "data": {
      "text/html": [
       "<div>\n",
       "<style scoped>\n",
       "    .dataframe tbody tr th:only-of-type {\n",
       "        vertical-align: middle;\n",
       "    }\n",
       "\n",
       "    .dataframe tbody tr th {\n",
       "        vertical-align: top;\n",
       "    }\n",
       "\n",
       "    .dataframe thead th {\n",
       "        text-align: right;\n",
       "    }\n",
       "</style>\n",
       "<table border=\"1\" class=\"dataframe\">\n",
       "  <thead>\n",
       "    <tr style=\"text-align: right;\">\n",
       "      <th></th>\n",
       "      <th>Title</th>\n",
       "      <th>Cast and crew</th>\n",
       "      <th>genres</th>\n",
       "    </tr>\n",
       "  </thead>\n",
       "  <tbody>\n",
       "    <tr>\n",
       "      <th>0</th>\n",
       "      <td>The Grudge</td>\n",
       "      <td>Nicolas Pesce (director/screenplay); Andrea Ri...</td>\n",
       "      <td>Horror Mystery Thriller</td>\n",
       "    </tr>\n",
       "    <tr>\n",
       "      <th>1</th>\n",
       "      <td>Underwater</td>\n",
       "      <td>William Eubank (director); Brian Duffield, Ada...</td>\n",
       "      <td>Action Horror Science Fiction Thriller</td>\n",
       "    </tr>\n",
       "    <tr>\n",
       "      <th>2</th>\n",
       "      <td>Like a Boss</td>\n",
       "      <td>Miguel Arteta (director); Sam Pitman, Adam Col...</td>\n",
       "      <td>Comedy</td>\n",
       "    </tr>\n",
       "    <tr>\n",
       "      <th>3</th>\n",
       "      <td>Three Christs</td>\n",
       "      <td>Jon Avnet (director/screenplay); Eric Nazarian...</td>\n",
       "      <td>Drama</td>\n",
       "    </tr>\n",
       "    <tr>\n",
       "      <th>4</th>\n",
       "      <td>Inherit the Viper</td>\n",
       "      <td>Anthony Jerjen (director); Andrew Crabtree (sc...</td>\n",
       "      <td>Drama Thriller Crime</td>\n",
       "    </tr>\n",
       "  </tbody>\n",
       "</table>\n",
       "</div>"
      ],
      "text/plain": [
       "               Title                                      Cast and crew  \\\n",
       "0         The Grudge  Nicolas Pesce (director/screenplay); Andrea Ri...   \n",
       "1         Underwater  William Eubank (director); Brian Duffield, Ada...   \n",
       "2        Like a Boss  Miguel Arteta (director); Sam Pitman, Adam Col...   \n",
       "3      Three Christs  Jon Avnet (director/screenplay); Eric Nazarian...   \n",
       "4  Inherit the Viper  Anthony Jerjen (director); Andrew Crabtree (sc...   \n",
       "\n",
       "                                   genres  \n",
       "0                 Horror Mystery Thriller  \n",
       "1  Action Horror Science Fiction Thriller  \n",
       "2                                  Comedy  \n",
       "3                                   Drama  \n",
       "4                    Drama Thriller Crime  "
      ]
     },
     "execution_count": 18,
     "metadata": {},
     "output_type": "execute_result"
    }
   ],
   "source": [
    "df.head()"
   ]
  },
  {
   "cell_type": "code",
   "execution_count": 19,
   "metadata": {},
   "outputs": [
    {
     "name": "stdout",
     "output_type": "stream",
     "text": [
      "Nicolas Pesce (director/screenplay); Andrea Riseborough, Demián Bichir, John Cho, Betty Gilpin, Lin Shaye, Jacki Weaver\n"
     ]
    }
   ],
   "source": [
    "x = df[\"Cast and crew\"][0]\n",
    "print(x)"
   ]
  },
  {
   "cell_type": "code",
   "execution_count": 20,
   "metadata": {},
   "outputs": [],
   "source": [
    "def director(x):\n",
    "    if \" (director)\" in x:\n",
    "        return x.split(\" (director)\")[0]\n",
    "    elif \" (directors)\" in x:\n",
    "        return x.split(\" (directors)\")[0]\n",
    "    else:\n",
    "        return x.split(\" (director/screenplay)\")[0]"
   ]
  },
  {
   "cell_type": "code",
   "execution_count": 21,
   "metadata": {},
   "outputs": [],
   "source": [
    "df[\"director_name\"] = df[\"Cast and crew\"].map(lambda x: director(x))"
   ]
  },
  {
   "cell_type": "code",
   "execution_count": 22,
   "metadata": {},
   "outputs": [
    {
     "data": {
      "text/html": [
       "<div>\n",
       "<style scoped>\n",
       "    .dataframe tbody tr th:only-of-type {\n",
       "        vertical-align: middle;\n",
       "    }\n",
       "\n",
       "    .dataframe tbody tr th {\n",
       "        vertical-align: top;\n",
       "    }\n",
       "\n",
       "    .dataframe thead th {\n",
       "        text-align: right;\n",
       "    }\n",
       "</style>\n",
       "<table border=\"1\" class=\"dataframe\">\n",
       "  <thead>\n",
       "    <tr style=\"text-align: right;\">\n",
       "      <th></th>\n",
       "      <th>Title</th>\n",
       "      <th>Cast and crew</th>\n",
       "      <th>genres</th>\n",
       "      <th>director_name</th>\n",
       "    </tr>\n",
       "  </thead>\n",
       "  <tbody>\n",
       "    <tr>\n",
       "      <th>0</th>\n",
       "      <td>The Grudge</td>\n",
       "      <td>Nicolas Pesce (director/screenplay); Andrea Ri...</td>\n",
       "      <td>Horror Mystery Thriller</td>\n",
       "      <td>Nicolas Pesce</td>\n",
       "    </tr>\n",
       "    <tr>\n",
       "      <th>1</th>\n",
       "      <td>Underwater</td>\n",
       "      <td>William Eubank (director); Brian Duffield, Ada...</td>\n",
       "      <td>Action Horror Science Fiction Thriller</td>\n",
       "      <td>William Eubank</td>\n",
       "    </tr>\n",
       "    <tr>\n",
       "      <th>2</th>\n",
       "      <td>Like a Boss</td>\n",
       "      <td>Miguel Arteta (director); Sam Pitman, Adam Col...</td>\n",
       "      <td>Comedy</td>\n",
       "      <td>Miguel Arteta</td>\n",
       "    </tr>\n",
       "    <tr>\n",
       "      <th>3</th>\n",
       "      <td>Three Christs</td>\n",
       "      <td>Jon Avnet (director/screenplay); Eric Nazarian...</td>\n",
       "      <td>Drama</td>\n",
       "      <td>Jon Avnet</td>\n",
       "    </tr>\n",
       "    <tr>\n",
       "      <th>4</th>\n",
       "      <td>Inherit the Viper</td>\n",
       "      <td>Anthony Jerjen (director); Andrew Crabtree (sc...</td>\n",
       "      <td>Drama Thriller Crime</td>\n",
       "      <td>Anthony Jerjen</td>\n",
       "    </tr>\n",
       "  </tbody>\n",
       "</table>\n",
       "</div>"
      ],
      "text/plain": [
       "               Title                                      Cast and crew  \\\n",
       "0         The Grudge  Nicolas Pesce (director/screenplay); Andrea Ri...   \n",
       "1         Underwater  William Eubank (director); Brian Duffield, Ada...   \n",
       "2        Like a Boss  Miguel Arteta (director); Sam Pitman, Adam Col...   \n",
       "3      Three Christs  Jon Avnet (director/screenplay); Eric Nazarian...   \n",
       "4  Inherit the Viper  Anthony Jerjen (director); Andrew Crabtree (sc...   \n",
       "\n",
       "                                   genres   director_name  \n",
       "0                 Horror Mystery Thriller   Nicolas Pesce  \n",
       "1  Action Horror Science Fiction Thriller  William Eubank  \n",
       "2                                  Comedy   Miguel Arteta  \n",
       "3                                   Drama       Jon Avnet  \n",
       "4                    Drama Thriller Crime  Anthony Jerjen  "
      ]
     },
     "execution_count": 22,
     "metadata": {},
     "output_type": "execute_result"
    }
   ],
   "source": [
    "df.head()"
   ]
  },
  {
   "cell_type": "code",
   "execution_count": 23,
   "metadata": {},
   "outputs": [
    {
     "name": "stdout",
     "output_type": "stream",
     "text": [
      "Nicolas Pesce (director/screenplay); Andrea Riseborough, Demián Bichir, John Cho, Betty Gilpin, Lin Shaye, Jacki Weaver\n"
     ]
    }
   ],
   "source": [
    "x = df[\"Cast and crew\"][0]\n",
    "print(x)"
   ]
  },
  {
   "cell_type": "code",
   "execution_count": 24,
   "metadata": {},
   "outputs": [],
   "source": [
    "def actors(x,num):\n",
    "    casts = (x.split(\"screenplay); \")[-1]).split(\", \")\n",
    "    if casts == []:\n",
    "        return np.NaN\n",
    "    if num == 1:\n",
    "        return (casts[0])\n",
    "    elif num ==2:\n",
    "        if len(casts)<=1:\n",
    "            return np.NaN\n",
    "        return (casts[1])\n",
    "    elif num ==3:\n",
    "        if  len(casts)<=2:\n",
    "            return np.NaN\n",
    "        else:\n",
    "            return (casts[2])\n"
   ]
  },
  {
   "cell_type": "code",
   "execution_count": 25,
   "metadata": {},
   "outputs": [],
   "source": [
    "df[\"actor_1_name\"] = df[\"Cast and crew\"].map(lambda x: actors(x,1))\n",
    "df[\"actor_2_name\"] = df[\"Cast and crew\"].map(lambda x: actors(x,2))\n",
    "df[\"actor_3_name\"] = df[\"Cast and crew\"].map(lambda x: actors(x,3))"
   ]
  },
  {
   "cell_type": "code",
   "execution_count": 26,
   "metadata": {},
   "outputs": [],
   "source": [
    "df.drop(\"Cast and crew\", axis=1, inplace =True)"
   ]
  },
  {
   "cell_type": "code",
   "execution_count": 27,
   "metadata": {},
   "outputs": [
    {
     "data": {
      "text/html": [
       "<div>\n",
       "<style scoped>\n",
       "    .dataframe tbody tr th:only-of-type {\n",
       "        vertical-align: middle;\n",
       "    }\n",
       "\n",
       "    .dataframe tbody tr th {\n",
       "        vertical-align: top;\n",
       "    }\n",
       "\n",
       "    .dataframe thead th {\n",
       "        text-align: right;\n",
       "    }\n",
       "</style>\n",
       "<table border=\"1\" class=\"dataframe\">\n",
       "  <thead>\n",
       "    <tr style=\"text-align: right;\">\n",
       "      <th></th>\n",
       "      <th>Title</th>\n",
       "      <th>genres</th>\n",
       "      <th>director_name</th>\n",
       "      <th>actor_1_name</th>\n",
       "      <th>actor_2_name</th>\n",
       "      <th>actor_3_name</th>\n",
       "    </tr>\n",
       "  </thead>\n",
       "  <tbody>\n",
       "    <tr>\n",
       "      <th>262</th>\n",
       "      <td>Hunter Hunter</td>\n",
       "      <td>Horror Thriller</td>\n",
       "      <td>Shawn Linden</td>\n",
       "      <td>Devon Sawa</td>\n",
       "      <td>Camille Sullivan</td>\n",
       "      <td>Nick Stahl</td>\n",
       "    </tr>\n",
       "    <tr>\n",
       "      <th>263</th>\n",
       "      <td>Ariana Grande: Excuse Me, I Love You</td>\n",
       "      <td>Music Documentary</td>\n",
       "      <td>Paul Dugdale</td>\n",
       "      <td>Paul Dugdale (director); Ariana Grande</td>\n",
       "      <td>NaN</td>\n",
       "      <td>NaN</td>\n",
       "    </tr>\n",
       "    <tr>\n",
       "      <th>264</th>\n",
       "      <td>Sylvie's Love</td>\n",
       "      <td>Drama Romance</td>\n",
       "      <td>Eugene Ashe</td>\n",
       "      <td>Tessa Thompson</td>\n",
       "      <td>Nnamdi Asomugha</td>\n",
       "      <td>Ryan Michelle Bathe</td>\n",
       "    </tr>\n",
       "    <tr>\n",
       "      <th>265</th>\n",
       "      <td>Wonder Woman 1984</td>\n",
       "      <td>Fantasy Action Adventure</td>\n",
       "      <td>Patty Jenkins</td>\n",
       "      <td>Gal Gadot</td>\n",
       "      <td>Chris Pine</td>\n",
       "      <td>Kristen Wiig</td>\n",
       "    </tr>\n",
       "    <tr>\n",
       "      <th>266</th>\n",
       "      <td>Soul</td>\n",
       "      <td>Family Animation Comedy Drama Music Fantasy</td>\n",
       "      <td>Pete Docter</td>\n",
       "      <td>Jamie Foxx</td>\n",
       "      <td>Tina Fey</td>\n",
       "      <td>Graham Norton</td>\n",
       "    </tr>\n",
       "    <tr>\n",
       "      <th>267</th>\n",
       "      <td>We Can Be Heroes</td>\n",
       "      <td>Action Fantasy Family Comedy</td>\n",
       "      <td>Robert Rodriguez</td>\n",
       "      <td>Priyanka Chopra Jonas</td>\n",
       "      <td>Pedro Pascal</td>\n",
       "      <td>YaYa Gosselin</td>\n",
       "    </tr>\n",
       "    <tr>\n",
       "      <th>268</th>\n",
       "      <td>News of the World</td>\n",
       "      <td>Action Adventure Drama Western</td>\n",
       "      <td>Paul Greengrass</td>\n",
       "      <td>Tom Hanks</td>\n",
       "      <td>Helena Zengel</td>\n",
       "      <td>NaN</td>\n",
       "    </tr>\n",
       "    <tr>\n",
       "      <th>269</th>\n",
       "      <td>One Night in Miami...</td>\n",
       "      <td>Drama</td>\n",
       "      <td>Regina King</td>\n",
       "      <td>Kingsley Ben-Adir</td>\n",
       "      <td>Eli Goree</td>\n",
       "      <td>Aldis Hodge</td>\n",
       "    </tr>\n",
       "    <tr>\n",
       "      <th>270</th>\n",
       "      <td>Promising Young Woman</td>\n",
       "      <td>Thriller Crime Drama</td>\n",
       "      <td>Emerald Fennell</td>\n",
       "      <td>Carey Mulligan</td>\n",
       "      <td>Bo Burnham</td>\n",
       "      <td>Alison Brie</td>\n",
       "    </tr>\n",
       "    <tr>\n",
       "      <th>271</th>\n",
       "      <td>Pieces of a Woman</td>\n",
       "      <td>Drama</td>\n",
       "      <td>Kornél Mundruczó</td>\n",
       "      <td>Vanessa Kirby</td>\n",
       "      <td>Shia LaBeouf</td>\n",
       "      <td>Molly Parker</td>\n",
       "    </tr>\n",
       "  </tbody>\n",
       "</table>\n",
       "</div>"
      ],
      "text/plain": [
       "                                    Title  \\\n",
       "262                         Hunter Hunter   \n",
       "263  Ariana Grande: Excuse Me, I Love You   \n",
       "264                         Sylvie's Love   \n",
       "265                     Wonder Woman 1984   \n",
       "266                                  Soul   \n",
       "267                      We Can Be Heroes   \n",
       "268                     News of the World   \n",
       "269                 One Night in Miami...   \n",
       "270                 Promising Young Woman   \n",
       "271                     Pieces of a Woman   \n",
       "\n",
       "                                          genres     director_name  \\\n",
       "262                              Horror Thriller      Shawn Linden   \n",
       "263                            Music Documentary      Paul Dugdale   \n",
       "264                                Drama Romance       Eugene Ashe   \n",
       "265                     Fantasy Action Adventure     Patty Jenkins   \n",
       "266  Family Animation Comedy Drama Music Fantasy       Pete Docter   \n",
       "267                 Action Fantasy Family Comedy  Robert Rodriguez   \n",
       "268               Action Adventure Drama Western   Paul Greengrass   \n",
       "269                                        Drama       Regina King   \n",
       "270                         Thriller Crime Drama   Emerald Fennell   \n",
       "271                                        Drama  Kornél Mundruczó   \n",
       "\n",
       "                               actor_1_name      actor_2_name  \\\n",
       "262                              Devon Sawa  Camille Sullivan   \n",
       "263  Paul Dugdale (director); Ariana Grande               NaN   \n",
       "264                          Tessa Thompson   Nnamdi Asomugha   \n",
       "265                               Gal Gadot        Chris Pine   \n",
       "266                              Jamie Foxx          Tina Fey   \n",
       "267                   Priyanka Chopra Jonas      Pedro Pascal   \n",
       "268                               Tom Hanks     Helena Zengel   \n",
       "269                       Kingsley Ben-Adir         Eli Goree   \n",
       "270                          Carey Mulligan        Bo Burnham   \n",
       "271                           Vanessa Kirby      Shia LaBeouf   \n",
       "\n",
       "            actor_3_name  \n",
       "262           Nick Stahl  \n",
       "263                  NaN  \n",
       "264  Ryan Michelle Bathe  \n",
       "265         Kristen Wiig  \n",
       "266        Graham Norton  \n",
       "267        YaYa Gosselin  \n",
       "268                  NaN  \n",
       "269          Aldis Hodge  \n",
       "270          Alison Brie  \n",
       "271         Molly Parker  "
      ]
     },
     "execution_count": 27,
     "metadata": {},
     "output_type": "execute_result"
    }
   ],
   "source": [
    "df.tail(10)"
   ]
  },
  {
   "cell_type": "code",
   "execution_count": 28,
   "metadata": {},
   "outputs": [
    {
     "data": {
      "text/html": [
       "<div>\n",
       "<style scoped>\n",
       "    .dataframe tbody tr th:only-of-type {\n",
       "        vertical-align: middle;\n",
       "    }\n",
       "\n",
       "    .dataframe tbody tr th {\n",
       "        vertical-align: top;\n",
       "    }\n",
       "\n",
       "    .dataframe thead th {\n",
       "        text-align: right;\n",
       "    }\n",
       "</style>\n",
       "<table border=\"1\" class=\"dataframe\">\n",
       "  <thead>\n",
       "    <tr style=\"text-align: right;\">\n",
       "      <th></th>\n",
       "      <th>movie_title</th>\n",
       "      <th>genres</th>\n",
       "      <th>director_name</th>\n",
       "      <th>actor_1_name</th>\n",
       "      <th>actor_2_name</th>\n",
       "      <th>actor_3_name</th>\n",
       "    </tr>\n",
       "  </thead>\n",
       "  <tbody>\n",
       "    <tr>\n",
       "      <th>0</th>\n",
       "      <td>avatar</td>\n",
       "      <td>Action Adventure Fantasy Sci-Fi</td>\n",
       "      <td>James Cameron</td>\n",
       "      <td>CCH Pounder</td>\n",
       "      <td>Joel David Moore</td>\n",
       "      <td>Wes Studi</td>\n",
       "    </tr>\n",
       "    <tr>\n",
       "      <th>1</th>\n",
       "      <td>pirates of the caribbean: at world's end</td>\n",
       "      <td>Action Adventure Fantasy</td>\n",
       "      <td>Gore Verbinski</td>\n",
       "      <td>Johnny Depp</td>\n",
       "      <td>Orlando Bloom</td>\n",
       "      <td>Jack Davenport</td>\n",
       "    </tr>\n",
       "    <tr>\n",
       "      <th>2</th>\n",
       "      <td>spectre</td>\n",
       "      <td>Action Adventure Thriller</td>\n",
       "      <td>Sam Mendes</td>\n",
       "      <td>Christoph Waltz</td>\n",
       "      <td>Rory Kinnear</td>\n",
       "      <td>Stephanie Sigman</td>\n",
       "    </tr>\n",
       "    <tr>\n",
       "      <th>3</th>\n",
       "      <td>the dark knight rises</td>\n",
       "      <td>Action Thriller</td>\n",
       "      <td>Christopher Nolan</td>\n",
       "      <td>Tom Hardy</td>\n",
       "      <td>Christian Bale</td>\n",
       "      <td>Joseph Gordon-Levitt</td>\n",
       "    </tr>\n",
       "    <tr>\n",
       "      <th>4</th>\n",
       "      <td>star wars: episode vii - the force awakens    ...</td>\n",
       "      <td>Documentary</td>\n",
       "      <td>Doug Walker</td>\n",
       "      <td>Doug Walker</td>\n",
       "      <td>Rob Walker</td>\n",
       "      <td>unknown</td>\n",
       "    </tr>\n",
       "  </tbody>\n",
       "</table>\n",
       "</div>"
      ],
      "text/plain": [
       "                                         movie_title  \\\n",
       "0                                             avatar   \n",
       "1           pirates of the caribbean: at world's end   \n",
       "2                                            spectre   \n",
       "3                              the dark knight rises   \n",
       "4  star wars: episode vii - the force awakens    ...   \n",
       "\n",
       "                            genres      director_name     actor_1_name  \\\n",
       "0  Action Adventure Fantasy Sci-Fi      James Cameron      CCH Pounder   \n",
       "1         Action Adventure Fantasy     Gore Verbinski      Johnny Depp   \n",
       "2        Action Adventure Thriller         Sam Mendes  Christoph Waltz   \n",
       "3                  Action Thriller  Christopher Nolan        Tom Hardy   \n",
       "4                      Documentary        Doug Walker      Doug Walker   \n",
       "\n",
       "       actor_2_name          actor_3_name  \n",
       "0  Joel David Moore             Wes Studi  \n",
       "1     Orlando Bloom        Jack Davenport  \n",
       "2      Rory Kinnear      Stephanie Sigman  \n",
       "3    Christian Bale  Joseph Gordon-Levitt  \n",
       "4        Rob Walker               unknown  "
      ]
     },
     "execution_count": 28,
     "metadata": {},
     "output_type": "execute_result"
    }
   ],
   "source": [
    "reqAttr = pd.read_csv(\"Dataset/reqAttr.csv\")\n",
    "reqAttr.head()"
   ]
  },
  {
   "cell_type": "code",
   "execution_count": 29,
   "metadata": {},
   "outputs": [],
   "source": [
    "df = df.rename(columns= {\"Title\":\"movie_title\" })"
   ]
  },
  {
   "cell_type": "code",
   "execution_count": 30,
   "metadata": {},
   "outputs": [],
   "source": [
    "df[\"movie_title\"] = df[\"movie_title\"].apply(lambda x: x.lower())"
   ]
  },
  {
   "cell_type": "code",
   "execution_count": 31,
   "metadata": {},
   "outputs": [
    {
     "data": {
      "text/html": [
       "<div>\n",
       "<style scoped>\n",
       "    .dataframe tbody tr th:only-of-type {\n",
       "        vertical-align: middle;\n",
       "    }\n",
       "\n",
       "    .dataframe tbody tr th {\n",
       "        vertical-align: top;\n",
       "    }\n",
       "\n",
       "    .dataframe thead th {\n",
       "        text-align: right;\n",
       "    }\n",
       "</style>\n",
       "<table border=\"1\" class=\"dataframe\">\n",
       "  <thead>\n",
       "    <tr style=\"text-align: right;\">\n",
       "      <th></th>\n",
       "      <th>movie_title</th>\n",
       "      <th>genres</th>\n",
       "      <th>director_name</th>\n",
       "      <th>actor_1_name</th>\n",
       "      <th>actor_2_name</th>\n",
       "      <th>actor_3_name</th>\n",
       "    </tr>\n",
       "  </thead>\n",
       "  <tbody>\n",
       "    <tr>\n",
       "      <th>0</th>\n",
       "      <td>the grudge</td>\n",
       "      <td>Horror Mystery Thriller</td>\n",
       "      <td>Nicolas Pesce</td>\n",
       "      <td>Andrea Riseborough</td>\n",
       "      <td>Demián Bichir</td>\n",
       "      <td>John Cho</td>\n",
       "    </tr>\n",
       "    <tr>\n",
       "      <th>1</th>\n",
       "      <td>underwater</td>\n",
       "      <td>Action Horror Science Fiction Thriller</td>\n",
       "      <td>William Eubank</td>\n",
       "      <td>Kristen Stewart</td>\n",
       "      <td>Vincent Cassel</td>\n",
       "      <td>Jessica Henwick</td>\n",
       "    </tr>\n",
       "    <tr>\n",
       "      <th>2</th>\n",
       "      <td>like a boss</td>\n",
       "      <td>Comedy</td>\n",
       "      <td>Miguel Arteta</td>\n",
       "      <td>Tiffany Haddish</td>\n",
       "      <td>Rose Byrne</td>\n",
       "      <td>Salma Hayek</td>\n",
       "    </tr>\n",
       "    <tr>\n",
       "      <th>3</th>\n",
       "      <td>three christs</td>\n",
       "      <td>Drama</td>\n",
       "      <td>Jon Avnet</td>\n",
       "      <td>Richard Gere</td>\n",
       "      <td>Peter Dinklage</td>\n",
       "      <td>Walton Goggins</td>\n",
       "    </tr>\n",
       "    <tr>\n",
       "      <th>4</th>\n",
       "      <td>inherit the viper</td>\n",
       "      <td>Drama Thriller Crime</td>\n",
       "      <td>Anthony Jerjen</td>\n",
       "      <td>Josh Hartnett</td>\n",
       "      <td>Margarita Levieva</td>\n",
       "      <td>Chandler Riggs</td>\n",
       "    </tr>\n",
       "  </tbody>\n",
       "</table>\n",
       "</div>"
      ],
      "text/plain": [
       "         movie_title                                  genres   director_name  \\\n",
       "0         the grudge                 Horror Mystery Thriller   Nicolas Pesce   \n",
       "1         underwater  Action Horror Science Fiction Thriller  William Eubank   \n",
       "2        like a boss                                  Comedy   Miguel Arteta   \n",
       "3      three christs                                   Drama       Jon Avnet   \n",
       "4  inherit the viper                    Drama Thriller Crime  Anthony Jerjen   \n",
       "\n",
       "         actor_1_name       actor_2_name     actor_3_name  \n",
       "0  Andrea Riseborough      Demián Bichir         John Cho  \n",
       "1     Kristen Stewart     Vincent Cassel  Jessica Henwick  \n",
       "2     Tiffany Haddish         Rose Byrne      Salma Hayek  \n",
       "3        Richard Gere     Peter Dinklage   Walton Goggins  \n",
       "4       Josh Hartnett  Margarita Levieva   Chandler Riggs  "
      ]
     },
     "execution_count": 31,
     "metadata": {},
     "output_type": "execute_result"
    }
   ],
   "source": [
    "df.head()"
   ]
  },
  {
   "cell_type": "code",
   "execution_count": 32,
   "metadata": {},
   "outputs": [],
   "source": [
    "reqAttr = reqAttr.append(df, ignore_index=True)"
   ]
  },
  {
   "cell_type": "code",
   "execution_count": 34,
   "metadata": {},
   "outputs": [
    {
     "data": {
      "text/plain": [
       "(6698, 6)"
      ]
     },
     "execution_count": 34,
     "metadata": {},
     "output_type": "execute_result"
    }
   ],
   "source": [
    "reqAttr.shape"
   ]
  },
  {
   "cell_type": "code",
   "execution_count": 33,
   "metadata": {},
   "outputs": [
    {
     "name": "stdout",
     "output_type": "stream",
     "text": [
      "movie_title =|=====|= 0\n",
      "genres =|=====|= 1\n",
      "director_name =|=====|= 0\n",
      "actor_1_name =|=====|= 0\n",
      "actor_2_name =|=====|= 4\n",
      "actor_3_name =|=====|= 27\n"
     ]
    }
   ],
   "source": [
    "for i in reqAttr.columns:\n",
    "    print(f\"{i} =|=====|= {reqAttr[i].isnull().sum()}\")"
   ]
  },
  {
   "cell_type": "code",
   "execution_count": 35,
   "metadata": {},
   "outputs": [],
   "source": [
    "reqAttr = reqAttr.dropna(how='any')"
   ]
  },
  {
   "cell_type": "code",
   "execution_count": 36,
   "metadata": {},
   "outputs": [
    {
     "name": "stdout",
     "output_type": "stream",
     "text": [
      "movie_title =|=====|= 0\n",
      "genres =|=====|= 0\n",
      "director_name =|=====|= 0\n",
      "actor_1_name =|=====|= 0\n",
      "actor_2_name =|=====|= 0\n",
      "actor_3_name =|=====|= 0\n"
     ]
    }
   ],
   "source": [
    "for i in reqAttr.columns:\n",
    "    print(f\"{i} =|=====|= {reqAttr[i].isnull().sum()}\")"
   ]
  },
  {
   "cell_type": "code",
   "execution_count": null,
   "metadata": {},
   "outputs": [],
   "source": [
    "reqAttr.to_csv(\"Dataset/reqAttr.csv\", index=False)"
   ]
  },
  {
   "cell_type": "code",
   "execution_count": 2,
   "metadata": {},
   "outputs": [
    {
     "data": {
      "text/html": [
       "<div>\n",
       "<style scoped>\n",
       "    .dataframe tbody tr th:only-of-type {\n",
       "        vertical-align: middle;\n",
       "    }\n",
       "\n",
       "    .dataframe tbody tr th {\n",
       "        vertical-align: top;\n",
       "    }\n",
       "\n",
       "    .dataframe thead th {\n",
       "        text-align: right;\n",
       "    }\n",
       "</style>\n",
       "<table border=\"1\" class=\"dataframe\">\n",
       "  <thead>\n",
       "    <tr style=\"text-align: right;\">\n",
       "      <th></th>\n",
       "      <th>movie_title</th>\n",
       "      <th>genres</th>\n",
       "      <th>director_name</th>\n",
       "      <th>actor_1_name</th>\n",
       "      <th>actor_2_name</th>\n",
       "      <th>actor_3_name</th>\n",
       "      <th>combined</th>\n",
       "    </tr>\n",
       "  </thead>\n",
       "  <tbody>\n",
       "    <tr>\n",
       "      <th>0</th>\n",
       "      <td>avatar</td>\n",
       "      <td>Action Adventure Fantasy Sci-Fi</td>\n",
       "      <td>James Cameron</td>\n",
       "      <td>CCH Pounder</td>\n",
       "      <td>Joel David Moore</td>\n",
       "      <td>Wes Studi</td>\n",
       "      <td>Action Adventure Fantasy Sci-Fi James Cameron ...</td>\n",
       "    </tr>\n",
       "    <tr>\n",
       "      <th>1</th>\n",
       "      <td>pirates of the caribbean: at world's end</td>\n",
       "      <td>Action Adventure Fantasy</td>\n",
       "      <td>Gore Verbinski</td>\n",
       "      <td>Johnny Depp</td>\n",
       "      <td>Orlando Bloom</td>\n",
       "      <td>Jack Davenport</td>\n",
       "      <td>Action Adventure Fantasy Gore Verbinski Johnny...</td>\n",
       "    </tr>\n",
       "    <tr>\n",
       "      <th>2</th>\n",
       "      <td>spectre</td>\n",
       "      <td>Action Adventure Thriller</td>\n",
       "      <td>Sam Mendes</td>\n",
       "      <td>Christoph Waltz</td>\n",
       "      <td>Rory Kinnear</td>\n",
       "      <td>Stephanie Sigman</td>\n",
       "      <td>Action Adventure Thriller Sam Mendes Christoph...</td>\n",
       "    </tr>\n",
       "    <tr>\n",
       "      <th>3</th>\n",
       "      <td>the dark knight rises</td>\n",
       "      <td>Action Thriller</td>\n",
       "      <td>Christopher Nolan</td>\n",
       "      <td>Tom Hardy</td>\n",
       "      <td>Christian Bale</td>\n",
       "      <td>Joseph Gordon-Levitt</td>\n",
       "      <td>Action Thriller Christopher Nolan Tom Hardy Ch...</td>\n",
       "    </tr>\n",
       "    <tr>\n",
       "      <th>4</th>\n",
       "      <td>star wars: episode vii - the force awakens    ...</td>\n",
       "      <td>Documentary</td>\n",
       "      <td>Doug Walker</td>\n",
       "      <td>Doug Walker</td>\n",
       "      <td>Rob Walker</td>\n",
       "      <td>unknown</td>\n",
       "      <td>Documentary Doug Walker Doug Walker Rob Walker...</td>\n",
       "    </tr>\n",
       "  </tbody>\n",
       "</table>\n",
       "</div>"
      ],
      "text/plain": [
       "                                         movie_title  \\\n",
       "0                                             avatar   \n",
       "1           pirates of the caribbean: at world's end   \n",
       "2                                            spectre   \n",
       "3                              the dark knight rises   \n",
       "4  star wars: episode vii - the force awakens    ...   \n",
       "\n",
       "                            genres      director_name     actor_1_name  \\\n",
       "0  Action Adventure Fantasy Sci-Fi      James Cameron      CCH Pounder   \n",
       "1         Action Adventure Fantasy     Gore Verbinski      Johnny Depp   \n",
       "2        Action Adventure Thriller         Sam Mendes  Christoph Waltz   \n",
       "3                  Action Thriller  Christopher Nolan        Tom Hardy   \n",
       "4                      Documentary        Doug Walker      Doug Walker   \n",
       "\n",
       "       actor_2_name          actor_3_name  \\\n",
       "0  Joel David Moore             Wes Studi   \n",
       "1     Orlando Bloom        Jack Davenport   \n",
       "2      Rory Kinnear      Stephanie Sigman   \n",
       "3    Christian Bale  Joseph Gordon-Levitt   \n",
       "4        Rob Walker               unknown   \n",
       "\n",
       "                                            combined  \n",
       "0  Action Adventure Fantasy Sci-Fi James Cameron ...  \n",
       "1  Action Adventure Fantasy Gore Verbinski Johnny...  \n",
       "2  Action Adventure Thriller Sam Mendes Christoph...  \n",
       "3  Action Thriller Christopher Nolan Tom Hardy Ch...  \n",
       "4  Documentary Doug Walker Doug Walker Rob Walker...  "
      ]
     },
     "execution_count": 2,
     "metadata": {},
     "output_type": "execute_result"
    }
   ],
   "source": [
    "df = pd.read_csv(\"Dataset/reqAttr.csv\")\n",
    "df.head()"
   ]
  },
  {
   "cell_type": "code",
   "execution_count": 11,
   "metadata": {},
   "outputs": [
    {
     "name": "stdout",
     "output_type": "stream",
     "text": [
      "True\n",
      "False\n",
      "6670\n"
     ]
    }
   ],
   "source": [
    "print(\"avatar\" == df[\"movie_title\"][0])\n",
    "print(\"avatar\" in df[\"movie_title\"])\n",
    "print(len(df))"
   ]
  },
  {
   "cell_type": "code",
   "execution_count": 58,
   "metadata": {},
   "outputs": [
    {
     "data": {
      "text/plain": [
       "(6670, 6)"
      ]
     },
     "execution_count": 58,
     "metadata": {},
     "output_type": "execute_result"
    }
   ],
   "source": [
    "df.shape"
   ]
  },
  {
   "cell_type": "markdown",
   "metadata": {},
   "source": [
    "## Add another column conating director name, 3 actor name and genre name  "
   ]
  },
  {
   "cell_type": "code",
   "execution_count": 59,
   "metadata": {},
   "outputs": [],
   "source": [
    "df['combined'] = df[\"genres\"]+\" \"+df[\"director_name\"]+\" \"+df[\"actor_1_name\"]+\" \"+df[\"actor_2_name\"]+\" \"+df[\"actor_3_name\"]"
   ]
  },
  {
   "cell_type": "code",
   "execution_count": 60,
   "metadata": {},
   "outputs": [
    {
     "data": {
      "text/html": [
       "<div>\n",
       "<style scoped>\n",
       "    .dataframe tbody tr th:only-of-type {\n",
       "        vertical-align: middle;\n",
       "    }\n",
       "\n",
       "    .dataframe tbody tr th {\n",
       "        vertical-align: top;\n",
       "    }\n",
       "\n",
       "    .dataframe thead th {\n",
       "        text-align: right;\n",
       "    }\n",
       "</style>\n",
       "<table border=\"1\" class=\"dataframe\">\n",
       "  <thead>\n",
       "    <tr style=\"text-align: right;\">\n",
       "      <th></th>\n",
       "      <th>movie_title</th>\n",
       "      <th>genres</th>\n",
       "      <th>director_name</th>\n",
       "      <th>actor_1_name</th>\n",
       "      <th>actor_2_name</th>\n",
       "      <th>actor_3_name</th>\n",
       "      <th>combined</th>\n",
       "    </tr>\n",
       "  </thead>\n",
       "  <tbody>\n",
       "    <tr>\n",
       "      <th>0</th>\n",
       "      <td>avatar</td>\n",
       "      <td>Action Adventure Fantasy Sci-Fi</td>\n",
       "      <td>James Cameron</td>\n",
       "      <td>CCH Pounder</td>\n",
       "      <td>Joel David Moore</td>\n",
       "      <td>Wes Studi</td>\n",
       "      <td>Action Adventure Fantasy Sci-Fi James Cameron ...</td>\n",
       "    </tr>\n",
       "    <tr>\n",
       "      <th>1</th>\n",
       "      <td>pirates of the caribbean: at world's end</td>\n",
       "      <td>Action Adventure Fantasy</td>\n",
       "      <td>Gore Verbinski</td>\n",
       "      <td>Johnny Depp</td>\n",
       "      <td>Orlando Bloom</td>\n",
       "      <td>Jack Davenport</td>\n",
       "      <td>Action Adventure Fantasy Gore Verbinski Johnny...</td>\n",
       "    </tr>\n",
       "    <tr>\n",
       "      <th>2</th>\n",
       "      <td>spectre</td>\n",
       "      <td>Action Adventure Thriller</td>\n",
       "      <td>Sam Mendes</td>\n",
       "      <td>Christoph Waltz</td>\n",
       "      <td>Rory Kinnear</td>\n",
       "      <td>Stephanie Sigman</td>\n",
       "      <td>Action Adventure Thriller Sam Mendes Christoph...</td>\n",
       "    </tr>\n",
       "    <tr>\n",
       "      <th>3</th>\n",
       "      <td>the dark knight rises</td>\n",
       "      <td>Action Thriller</td>\n",
       "      <td>Christopher Nolan</td>\n",
       "      <td>Tom Hardy</td>\n",
       "      <td>Christian Bale</td>\n",
       "      <td>Joseph Gordon-Levitt</td>\n",
       "      <td>Action Thriller Christopher Nolan Tom Hardy Ch...</td>\n",
       "    </tr>\n",
       "    <tr>\n",
       "      <th>4</th>\n",
       "      <td>star wars: episode vii - the force awakens    ...</td>\n",
       "      <td>Documentary</td>\n",
       "      <td>Doug Walker</td>\n",
       "      <td>Doug Walker</td>\n",
       "      <td>Rob Walker</td>\n",
       "      <td>unknown</td>\n",
       "      <td>Documentary Doug Walker Doug Walker Rob Walker...</td>\n",
       "    </tr>\n",
       "  </tbody>\n",
       "</table>\n",
       "</div>"
      ],
      "text/plain": [
       "                                         movie_title  \\\n",
       "0                                             avatar   \n",
       "1           pirates of the caribbean: at world's end   \n",
       "2                                            spectre   \n",
       "3                              the dark knight rises   \n",
       "4  star wars: episode vii - the force awakens    ...   \n",
       "\n",
       "                            genres      director_name     actor_1_name  \\\n",
       "0  Action Adventure Fantasy Sci-Fi      James Cameron      CCH Pounder   \n",
       "1         Action Adventure Fantasy     Gore Verbinski      Johnny Depp   \n",
       "2        Action Adventure Thriller         Sam Mendes  Christoph Waltz   \n",
       "3                  Action Thriller  Christopher Nolan        Tom Hardy   \n",
       "4                      Documentary        Doug Walker      Doug Walker   \n",
       "\n",
       "       actor_2_name          actor_3_name  \\\n",
       "0  Joel David Moore             Wes Studi   \n",
       "1     Orlando Bloom        Jack Davenport   \n",
       "2      Rory Kinnear      Stephanie Sigman   \n",
       "3    Christian Bale  Joseph Gordon-Levitt   \n",
       "4        Rob Walker               unknown   \n",
       "\n",
       "                                            combined  \n",
       "0  Action Adventure Fantasy Sci-Fi James Cameron ...  \n",
       "1  Action Adventure Fantasy Gore Verbinski Johnny...  \n",
       "2  Action Adventure Thriller Sam Mendes Christoph...  \n",
       "3  Action Thriller Christopher Nolan Tom Hardy Ch...  \n",
       "4  Documentary Doug Walker Doug Walker Rob Walker...  "
      ]
     },
     "execution_count": 60,
     "metadata": {},
     "output_type": "execute_result"
    }
   ],
   "source": [
    "df.head()"
   ]
  },
  {
   "cell_type": "code",
   "execution_count": 61,
   "metadata": {},
   "outputs": [],
   "source": [
    "df.to_csv(\"Dataset/reqAttr.csv\", index=False)"
   ]
  },
  {
   "cell_type": "code",
   "execution_count": null,
   "metadata": {},
   "outputs": [],
   "source": []
  },
  {
   "cell_type": "code",
   "execution_count": null,
   "metadata": {},
   "outputs": [],
   "source": []
  },
  {
   "cell_type": "code",
   "execution_count": null,
   "metadata": {},
   "outputs": [],
   "source": []
  }
 ],
 "metadata": {
  "kernelspec": {
   "display_name": "Python 3",
   "language": "python",
   "name": "python3"
  },
  "language_info": {
   "codemirror_mode": {
    "name": "ipython",
    "version": 3
   },
   "file_extension": ".py",
   "mimetype": "text/x-python",
   "name": "python",
   "nbconvert_exporter": "python",
   "pygments_lexer": "ipython3",
   "version": "3.8.3"
  }
 },
 "nbformat": 4,
 "nbformat_minor": 4
}
